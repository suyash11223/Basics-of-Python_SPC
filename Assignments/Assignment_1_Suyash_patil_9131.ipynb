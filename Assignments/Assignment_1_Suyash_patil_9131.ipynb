{
  "nbformat": 4,
  "nbformat_minor": 0,
  "metadata": {
    "colab": {
      "name": "Yogesh_Kumar_Lalwani_9158_Assignment_1.ipynb",
      "provenance": [],
      "include_colab_link": true
    },
    "kernelspec": {
      "name": "python3",
      "display_name": "Python 3"
    },
    "language_info": {
      "name": "python"
    }
  },
  "cells": [
    {
      "cell_type": "markdown",
      "metadata": {
        "id": "view-in-github",
        "colab_type": "text"
      },
      "source": [
        "<a href=\"https://colab.research.google.com/github/suyash11223/Basics-of-Python_SPC/blob/main/Assignments/Assignment_1_Suyash_patil_Lalwani_9131.ipynb\" target=\"_parent\"><img src=\"https://colab.research.google.com/assets/colab-badge.svg\" alt=\"Open In Colab\"/></a>"
      ]
    },
    {
      "cell_type": "code",
      "execution_count": 15,
      "metadata": {
        "id": "AQljpCDjRh9M"
      },
      "outputs": [],
      "source": [
        "Name=\"Suyash Patil\"\n",
        "Roll_No=9131"
      ]
    },
    {
      "cell_type": "markdown",
      "metadata": {
        "id": "zddStRefVezy"
      },
      "source": [
        "Lists"
      ]
    },
    {
      "cell_type": "code",
      "execution_count": 16,
      "metadata": {
        "colab": {
          "base_uri": "https://localhost:8080/"
        },
        "id": "UPa8vWBHT7Mt",
        "outputId": "c0466a42-a14b-42f0-fd4d-04049599f921"
      },
      "outputs": [
        {
          "output_type": "stream",
          "name": "stdout",
          "text": [
            "['Suyash', 'Patil', 20, 'Student']\n",
            "['SP College', 'Autonomous', 'Sadashiv Peth', 411030]\n"
          ]
        }
      ],
      "source": [
        "A=[\"Suyash\",\"Patil\",20,\"Student\",]\n",
        "B=[\"SP College\",\"Autonomous\",\"Sadashiv Peth\",411030]\n",
        "print(A)\n",
        "print(B)"
      ]
    },
    {
      "cell_type": "markdown",
      "metadata": {
        "id": "A33kXrv8VnVw"
      },
      "source": [
        "Tupples"
      ]
    },
    {
      "cell_type": "code",
      "execution_count": 17,
      "metadata": {
        "colab": {
          "base_uri": "https://localhost:8080/"
        },
        "id": "CLWvdwTyVo6k",
        "outputId": "f2b6392b-0ad9-4d82-98f6-530ca9eeef0b"
      },
      "outputs": [
        {
          "output_type": "stream",
          "name": "stdout",
          "text": [
            "('Suyash', 'Patil', 20, 'Student')\n",
            "('SP College', 'Autonomous', 'Sadashiv Peth', 411030)\n"
          ]
        }
      ],
      "source": [
        "a=(\"Suyash\",\"Patil\",20,\"Student\")\n",
        "b=(\"SP College\",\"Autonomous\",\"Sadashiv Peth\",411030)\n",
        "print(a)\n",
        "print(b)"
      ]
    },
    {
      "cell_type": "code",
      "execution_count": 18,
      "metadata": {
        "colab": {
          "base_uri": "https://localhost:8080/"
        },
        "id": "P0PC7eFiW1xa",
        "outputId": "ef1b86b3-1109-4861-bf57-a6def05cea03"
      },
      "outputs": [
        {
          "output_type": "stream",
          "name": "stdout",
          "text": [
            "['Suyash', 'Patil']\n",
            "['Sadashiv Peth']\n",
            "20\n",
            "411030\n"
          ]
        }
      ],
      "source": [
        "print(A[0:2])\n",
        "print(B[2:3])\n",
        "print(a[2])\n",
        "print(b[3])"
      ]
    },
    {
      "cell_type": "markdown",
      "metadata": {
        "id": "Vq1FbFa4V7GU"
      },
      "source": [
        "Class"
      ]
    },
    {
      "cell_type": "code",
      "execution_count": 19,
      "metadata": {
        "colab": {
          "base_uri": "https://localhost:8080/"
        },
        "id": "K9Zz9geHWSYX",
        "outputId": "01f0c8b5-7353-47c7-8226-ad777c86f94d"
      },
      "outputs": [
        {
          "output_type": "stream",
          "name": "stdout",
          "text": [
            "<class 'list'>\n",
            "<class 'list'>\n",
            "<class 'tuple'>\n",
            "<class 'tuple'>\n"
          ]
        }
      ],
      "source": [
        "print(type(A))\n",
        "print(type(B))\n",
        "print(type(a))\n",
        "print(type(b))"
      ]
    },
    {
      "cell_type": "markdown",
      "metadata": {
        "id": "HyzEj8AlWoo8"
      },
      "source": [
        "Copy"
      ]
    },
    {
      "cell_type": "code",
      "execution_count": 20,
      "metadata": {
        "colab": {
          "base_uri": "https://localhost:8080/"
        },
        "id": "I5ALFx4NfqHY",
        "outputId": "f8f5c562-79a1-44d3-c06f-51082f19ba39"
      },
      "outputs": [
        {
          "output_type": "stream",
          "name": "stdout",
          "text": [
            "['Suyash', 'Patil', 20, 'Student']\n",
            "['Suyash', 'Patil', 20, 'Student']\n"
          ]
        }
      ],
      "source": [
        "print(A)\n",
        "A1=A.copy()\n",
        "print(A1)\n",
        "\n",
        "### Tupples cannot be copied"
      ]
    },
    {
      "cell_type": "markdown",
      "metadata": {
        "id": "H2Igh-Dnhi3e"
      },
      "source": [
        "Append"
      ]
    },
    {
      "cell_type": "code",
      "execution_count": 21,
      "metadata": {
        "colab": {
          "base_uri": "https://localhost:8080/"
        },
        "id": "KJV-dQhOhnWk",
        "outputId": "3ada8677-68fa-4b18-c503-61f5240f6c31"
      },
      "outputs": [
        {
          "output_type": "stream",
          "name": "stdout",
          "text": [
            "['SP College', 'Autonomous', 'Sadashiv Peth', 411030]\n",
            "['SP College', 'Autonomous', 'Sadashiv Peth', 411030, 'Autonomous']\n"
          ]
        }
      ],
      "source": [
        "print(B)\n",
        "B.append(\"Autonomous\")\n",
        "print(B)\n",
        "\n",
        "### TUpples cannot be modified"
      ]
    },
    {
      "cell_type": "markdown",
      "metadata": {
        "id": "yzC-dWA8j2_j"
      },
      "source": [
        "Count"
      ]
    },
    {
      "cell_type": "code",
      "execution_count": 22,
      "metadata": {
        "colab": {
          "base_uri": "https://localhost:8080/"
        },
        "id": "gX7asZPvj4VK",
        "outputId": "2791f47f-d399-429a-e6d6-84e6c770c60b"
      },
      "outputs": [
        {
          "output_type": "stream",
          "name": "stdout",
          "text": [
            "0\n",
            "1\n"
          ]
        }
      ],
      "source": [
        "print(A.count(\"Suyash Patil\"))\n",
        "A.append(\"Suyash Patil\")\n",
        "print(A.count(\"Suyash Patil\"))"
      ]
    },
    {
      "cell_type": "markdown",
      "metadata": {
        "id": "uZcdiR0plxbk"
      },
      "source": [
        "Delete list"
      ]
    },
    {
      "cell_type": "code",
      "execution_count": 23,
      "metadata": {
        "id": "UpHOO4Isly_O",
        "outputId": "99bd2c0a-5df3-48ff-9ca0-5fd79c06d6df",
        "colab": {
          "base_uri": "https://localhost:8080/"
        }
      },
      "outputs": [
        {
          "output_type": "stream",
          "name": "stdout",
          "text": [
            "['Suyash', 'Patil', 20, 'Student']\n"
          ]
        }
      ],
      "source": [
        "try:\n",
        " print(A1)\n",
        " del A1\n",
        " print(A1)\n",
        "except:\n",
        "    pass\n",
        "\n",
        "### List A1 is deleted therefore it is showing error\n",
        "### Used Try and Expect to maintain the continuity of the program"
      ]
    },
    {
      "cell_type": "markdown",
      "metadata": {
        "id": "htdmmPEFmSZ2"
      },
      "source": [
        "Extend"
      ]
    },
    {
      "cell_type": "code",
      "execution_count": 24,
      "metadata": {
        "colab": {
          "base_uri": "https://localhost:8080/"
        },
        "id": "FiPc5sWpmTaG",
        "outputId": "7e0aae69-d5d4-404f-f629-78594f4e536d"
      },
      "outputs": [
        {
          "output_type": "stream",
          "name": "stdout",
          "text": [
            "['Suyash', 'Patil', 20, 'Student', 'Suyash Patil']\n",
            "['SP College', 'Autonomous', 'Sadashiv Peth', 411030, 'Autonomous']\n",
            "['Suyash', 'Patil', 20, 'Student', 'Suyash Patil', 'SP College', 'Autonomous', 'Sadashiv Peth', 411030, 'Autonomous']\n"
          ]
        }
      ],
      "source": [
        "print(A)\n",
        "print(B)\n",
        "A.extend(B)\n",
        "print(A)"
      ]
    },
    {
      "cell_type": "markdown",
      "metadata": {
        "id": "3SZNyOkSmz_4"
      },
      "source": [
        "Index"
      ]
    },
    {
      "cell_type": "code",
      "execution_count": 25,
      "metadata": {
        "colab": {
          "base_uri": "https://localhost:8080/"
        },
        "id": "lh7Fcztcm5zQ",
        "outputId": "dc20bb93-51a7-4ba5-8f72-b1204d1fb1c1"
      },
      "outputs": [
        {
          "output_type": "stream",
          "name": "stdout",
          "text": [
            "2\n",
            "6\n"
          ]
        }
      ],
      "source": [
        "print(B.index(\"Sadashiv Peth\"))\n",
        "print(A.index(\"Autonomous\"))\n",
        "\n",
        "### If the elements are repeated in the list then index() will provide the index no. of first element"
      ]
    },
    {
      "cell_type": "markdown",
      "metadata": {
        "id": "i18HeCFVna_F"
      },
      "source": [
        "Sort"
      ]
    },
    {
      "cell_type": "code",
      "execution_count": 26,
      "metadata": {
        "colab": {
          "base_uri": "https://localhost:8080/"
        },
        "id": "53GvfXQgnb07",
        "outputId": "b800ae6f-002b-4380-965a-2d6d77113895"
      },
      "outputs": [
        {
          "output_type": "stream",
          "name": "stdout",
          "text": [
            "['D', 'A', 'C', 'B']\n",
            "[4, 2, 1, 3]\n",
            "['A', 'B', 'C', 'D']\n",
            "[1, 2, 3, 4]\n"
          ]
        }
      ],
      "source": [
        "K=[\"D\",\"A\",\"C\",\"B\"]\n",
        "print(K)\n",
        "K1=[4,2,1,3]\n",
        "print(K1)\n",
        "K.sort()\n",
        "K1.sort()\n",
        "print(K)\n",
        "print(K1)\n",
        "\n",
        "### For sorting all the elements in the list should be of same type"
      ]
    },
    {
      "cell_type": "markdown",
      "metadata": {
        "id": "gcL3B3ELoci8"
      },
      "source": [
        "Access"
      ]
    },
    {
      "cell_type": "code",
      "execution_count": 27,
      "metadata": {
        "colab": {
          "base_uri": "https://localhost:8080/"
        },
        "id": "Ej2MOc8Nofdk",
        "outputId": "06b0f71e-e796-4e60-910b-76eebdc3620d"
      },
      "outputs": [
        {
          "output_type": "stream",
          "name": "stdout",
          "text": [
            "['A', 'B']\n",
            "[1, 2, 3, 4]\n"
          ]
        }
      ],
      "source": [
        "print(K[:2])\n",
        "print(K1[0:])"
      ]
    },
    {
      "cell_type": "markdown",
      "metadata": {
        "id": "CsCUgmvxo_KC"
      },
      "source": [
        "Nested List"
      ]
    },
    {
      "cell_type": "code",
      "execution_count": 28,
      "metadata": {
        "colab": {
          "base_uri": "https://localhost:8080/"
        },
        "id": "M4UQ5D3VpApW",
        "outputId": "790cd8b7-7202-4073-872d-18b9f21ed789"
      },
      "outputs": [
        {
          "output_type": "stream",
          "name": "stdout",
          "text": [
            "['Suyash Patil', 'SP COllege', [20, 411030]]\n",
            "[20, 411030]\n"
          ]
        }
      ],
      "source": [
        "ABlist=[\"Suyash Patil\",\"SP COllege\",[20,411030]]\n",
        "print(ABlist)\n",
        "print(ABlist[2])"
      ]
    }
  ]
}
